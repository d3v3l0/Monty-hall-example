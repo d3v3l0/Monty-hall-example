{
 "cells": [
  {
   "cell_type": "code",
   "execution_count": 200,
   "metadata": {
    "collapsed": true,
    "deletable": true,
    "editable": true
   },
   "outputs": [],
   "source": [
    "import numpy as np\n",
    "from matplotlib import pyplot as plt\n",
    "%matplotlib inline"
   ]
  },
  {
   "cell_type": "markdown",
   "metadata": {
    "deletable": true,
    "editable": true
   },
   "source": [
    "## The problem\n",
    "\n",
    "- We have to choose between 3 doors to open.\n",
    "- One of them has a car, the other 2 a goat\n",
    "- We first choose one of the 3, but they don't open it.\n",
    "- They open one of the 2 remaining doors to show there is a goat.\n",
    "- We now have to choose one of the 2\n",
    "\n",
    "## Which of the two doors should we choose?\n",
    "- Stay with our first selection\n",
    "- Change to the other door"
   ]
  },
  {
   "cell_type": "markdown",
   "metadata": {
    "deletable": true,
    "editable": true
   },
   "source": [
    "## The Math\n",
    "What are the odds? Should I stay with the first selection? Should I change? Is it option better than the other one?\n",
    "\n",
    "W = \"Winning the car\"\n",
    "\n",
    "### I will stay with my first choice\n",
    "\n",
    "$P(W) = 1/3$\n",
    "\n",
    "I will win if I hit the correct door in my first attempt. So I have 1 over 3 possible doors\n",
    "\n",
    "### I will throw a coin and choose randomly between the 2 remaining doors\n",
    "\n",
    "$P(W) = 1/2$\n",
    "\n",
    "Thats good! I have increased my odds to 1 over the 2 possible doors\n",
    "\n",
    "\n",
    "### I will change my choice\n",
    "\n",
    "Lets say I have chosen door 1 and they opened door 2 to show there is a goat. \n",
    "\n",
    "$C_1$ = \"Car behind door 1\"\n",
    "\n",
    "$C_3$ = \"Car behind door 3\"\n",
    "\n",
    "$G_2$ = \"Goat behind door 2\"\n",
    "\n",
    "The probability of a car in door 1 is 1/3\n",
    "\n",
    "$P(C_1) = 1/3$ \n",
    "\n",
    "I want to know which is the probability that there is a car behing door 1 given that there is a goat behing door 2. Or which is the probability that there is a car behing door 3 given that there is a goat behing door 2\n",
    "\n",
    "$P(C_1|G_2)$ = ? \n",
    "\n",
    "$P(C_3|G_2)$ = ? \n",
    "\n",
    "$P(C_1|G_2) + P(C_3|G_2) = 1$\n",
    "\n",
    "By bayes rule:\n",
    "\n",
    "$P(C_1|G_2) = \\frac{P(G_2/C_1)P(C_1)}{P(G_2)}$\n",
    "\n",
    "$P(C_1|G_2) = \\frac{P(G_2/C_1)P(C_1)}{P(G_2|C_1)P(C_1) + P(G_2|not C_1)P(not C_1)}$\n",
    "\n",
    "$P(C_1|G_2) = \\frac{(1/2)(1/3)}{(1)(1/3)+(1/2)(1/3)} = 1/3$\n",
    "\n",
    "$P(notC_1|G_2) = P(C_3|G_2) = 2/3$ \n",
    "\n",
    "So you better choose door 3!!! ;)"
   ]
  },
  {
   "cell_type": "markdown",
   "metadata": {
    "deletable": true,
    "editable": true
   },
   "source": [
    "## You don't trust the math? Lets simulate it!"
   ]
  },
  {
   "cell_type": "code",
   "execution_count": 199,
   "metadata": {
    "collapsed": false,
    "deletable": true,
    "editable": true
   },
   "outputs": [
    {
     "data": {
      "image/png": "[encoded data removed]",
      "text/plain": [
       "<matplotlib.figure.Figure at 0x10de41208>"
      ]
     },
     "metadata": {},
     "output_type": "display_data"
    }
   ],
   "source": [
    "# Big enough for accuracy\n",
    "N = 100000\n",
    "\n",
    "# The car position is set randomly in any of the 3 doors\n",
    "car_position = np.random.randint(3, size = N) + 1\n",
    "\n",
    "# The first selection is choosen randomly for any of the 3 doors\n",
    "first_selection = np.random.randint(3, size = N) + 1\n",
    "\n",
    "# Plot hists\n",
    "f, ax = plt.subplots(ncols=2, nrows=1, figsize = (10,3))\n",
    "ax[0].hist(car_position)\n",
    "ax[0].set_title(\"Distribition of car position\")\n",
    "ax[1].hist(first_selection)\n",
    "ax[1].set_title(\"Distribition of first selection\")\n",
    "plt.show()"
   ]
  },
  {
   "cell_type": "code",
   "execution_count": 182,
   "metadata": {
    "collapsed": false,
    "deletable": true,
    "editable": true
   },
   "outputs": [
    {
     "name": "stdout",
     "output_type": "stream",
     "text": [
      "Select second time ramdomly: 49\n",
      "Select the same door: 33\n",
      "Change door: 66\n"
     ]
    }
   ],
   "source": [
    "win_count_random = 0\n",
    "win_count_stay = 0\n",
    "win_count_change = 0\n",
    "for i in range(len(car_position)):\n",
    "    doors = [1,2,3]\n",
    "    \n",
    "    ## Remove selection and car\n",
    "    doors.remove(first_selection[i])\n",
    "    if car_position[i] in doors:\n",
    "        doors.remove(car_position[i])\n",
    "    \n",
    "    ## If selection and car are the same chose randomly the door to open\n",
    "    door_opened = doors[np.random.randint(len(doors))]\n",
    "    \n",
    "    ## The new options are my first plus the remaining\n",
    "    new_options = [1,2,3]\n",
    "    new_options.remove(door_opened)\n",
    "    \n",
    "    ## Select randomly between the 2 options\n",
    "    second_selection_random = new_options[np.random.randint(2)]\n",
    "    \n",
    "    ## Change selection\n",
    "    new_options.remove(first_selection[i])\n",
    "    change_door = new_options[0]\n",
    "    \n",
    "    if  car_position[i] == second_selection_random:\n",
    "        win_count_random = win_count_random + 1\n",
    "        \n",
    "    if  car_position[i] == first_selection[i]:\n",
    "        win_count_stay = win_count_stay + 1\n",
    "        \n",
    "    if  car_position[i] == change_door:\n",
    "        win_count_change = win_count_change + 1\n",
    "        \n",
    "print(\"Select second time ramdomly: %d\"%(100*win_count_random/N))\n",
    "print(\"Select the same door: %d\"%(100*win_count_stay/N))\n",
    "print(\"Change door: %d\"%(100*win_count_change/N))"
   ]
  },
  {
   "cell_type": "code",
   "execution_count": null,
   "metadata": {
    "collapsed": true,
    "deletable": true,
    "editable": true
   },
   "outputs": [],
   "source": []
  },
  {
   "cell_type": "code",
   "execution_count": null,
   "metadata": {
    "collapsed": true,
    "deletable": true,
    "editable": true
   },
   "outputs": [],
   "source": []
  }
 ],
 "metadata": {
  "kernelspec": {
   "display_name": "Python 3",
   "language": "python",
   "name": "python3"
  },
  "language_info": {
   "codemirror_mode": {
    "name": "ipython",
    "version": 3
   },
   "file_extension": ".py",
   "mimetype": "text/x-python",
   "name": "python",
   "nbconvert_exporter": "python",
   "pygments_lexer": "ipython3",
   "version": "3.6.0"
  },
  "toc": {
   "colors": {
    "hover_highlight": "#DAA520",
    "navigate_num": "#000000",
    "navigate_text": "#333333",
    "running_highlight": "#FF0000",
    "selected_highlight": "#FFD700",
    "sidebar_border": "#EEEEEE",
    "wrapper_background": "#FFFFFF"
   },
   "moveMenuLeft": true,
   "nav_menu": {
    "height": "138px",
    "width": "252px"
   },
   "navigate_menu": true,
   "number_sections": true,
   "sideBar": true,
   "threshold": 4,
   "toc_cell": false,
   "toc_section_display": "block",
   "toc_window_display": false,
   "widenNotebook": false
  }
 },
 "nbformat": 4,
 "nbformat_minor": 2
}
